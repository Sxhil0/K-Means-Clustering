{
 "cells": [
  {
   "cell_type": "code",
   "execution_count": 1,
   "id": "b9b2b2d7-3b1c-448f-b08c-d17356104753",
   "metadata": {},
   "outputs": [],
   "source": [
    "import numpy as np\n",
    "import pandas as pd\n",
    "import matplotlib.pyplot as plt\n",
    "import seaborn as sns\n",
    "from sklearn.cluster import KMeans\n",
    "import warnings\n",
    "warnings.filterwarnings('ignore')"
   ]
  },
  {
   "cell_type": "code",
   "execution_count": 2,
   "id": "112de7b3-d745-485b-9b5c-e92642494649",
   "metadata": {},
   "outputs": [
    {
     "data": {
      "text/html": [
       "<div>\n",
       "<style scoped>\n",
       "    .dataframe tbody tr th:only-of-type {\n",
       "        vertical-align: middle;\n",
       "    }\n",
       "\n",
       "    .dataframe tbody tr th {\n",
       "        vertical-align: top;\n",
       "    }\n",
       "\n",
       "    .dataframe thead th {\n",
       "        text-align: right;\n",
       "    }\n",
       "</style>\n",
       "<table border=\"1\" class=\"dataframe\">\n",
       "  <thead>\n",
       "    <tr style=\"text-align: right;\">\n",
       "      <th></th>\n",
       "      <th>Gender</th>\n",
       "      <th>Age</th>\n",
       "      <th>Annual Income (k$)</th>\n",
       "      <th>Spending Score (1-100)</th>\n",
       "    </tr>\n",
       "    <tr>\n",
       "      <th>CustomerID</th>\n",
       "      <th></th>\n",
       "      <th></th>\n",
       "      <th></th>\n",
       "      <th></th>\n",
       "    </tr>\n",
       "  </thead>\n",
       "  <tbody>\n",
       "    <tr>\n",
       "      <th>1</th>\n",
       "      <td>Male</td>\n",
       "      <td>19</td>\n",
       "      <td>15</td>\n",
       "      <td>39</td>\n",
       "    </tr>\n",
       "    <tr>\n",
       "      <th>2</th>\n",
       "      <td>Male</td>\n",
       "      <td>21</td>\n",
       "      <td>15</td>\n",
       "      <td>81</td>\n",
       "    </tr>\n",
       "    <tr>\n",
       "      <th>3</th>\n",
       "      <td>Female</td>\n",
       "      <td>20</td>\n",
       "      <td>16</td>\n",
       "      <td>6</td>\n",
       "    </tr>\n",
       "    <tr>\n",
       "      <th>4</th>\n",
       "      <td>Female</td>\n",
       "      <td>23</td>\n",
       "      <td>16</td>\n",
       "      <td>77</td>\n",
       "    </tr>\n",
       "    <tr>\n",
       "      <th>5</th>\n",
       "      <td>Female</td>\n",
       "      <td>31</td>\n",
       "      <td>17</td>\n",
       "      <td>40</td>\n",
       "    </tr>\n",
       "  </tbody>\n",
       "</table>\n",
       "</div>"
      ],
      "text/plain": [
       "            Gender  Age  Annual Income (k$)  Spending Score (1-100)\n",
       "CustomerID                                                         \n",
       "1             Male   19                  15                      39\n",
       "2             Male   21                  15                      81\n",
       "3           Female   20                  16                       6\n",
       "4           Female   23                  16                      77\n",
       "5           Female   31                  17                      40"
      ]
     },
     "execution_count": 2,
     "metadata": {},
     "output_type": "execute_result"
    }
   ],
   "source": [
    "df=pd.read_csv('mall_customers.csv',index_col=0)\n",
    "df.head()"
   ]
  },
  {
   "cell_type": "code",
   "execution_count": 3,
   "id": "f6ed6ca8-ba65-4d4e-8f4c-a24000915d37",
   "metadata": {},
   "outputs": [
    {
     "data": {
      "text/plain": [
       "Gender                    0\n",
       "Age                       0\n",
       "Annual Income (k$)        0\n",
       "Spending Score (1-100)    0\n",
       "dtype: int64"
      ]
     },
     "execution_count": 3,
     "metadata": {},
     "output_type": "execute_result"
    }
   ],
   "source": [
    "df.isna().sum()"
   ]
  },
  {
   "cell_type": "code",
   "execution_count": 4,
   "id": "1d848c28-76ff-45dc-bbc8-5518a872f27b",
   "metadata": {},
   "outputs": [
    {
     "name": "stdout",
     "output_type": "stream",
     "text": [
      "<class 'pandas.core.frame.DataFrame'>\n",
      "Index: 200 entries, 1 to 200\n",
      "Data columns (total 4 columns):\n",
      " #   Column                  Non-Null Count  Dtype \n",
      "---  ------                  --------------  ----- \n",
      " 0   Gender                  200 non-null    object\n",
      " 1   Age                     200 non-null    int64 \n",
      " 2   Annual Income (k$)      200 non-null    int64 \n",
      " 3   Spending Score (1-100)  200 non-null    int64 \n",
      "dtypes: int64(3), object(1)\n",
      "memory usage: 7.8+ KB\n"
     ]
    }
   ],
   "source": [
    "df.info()"
   ]
  },
  {
   "cell_type": "code",
   "execution_count": 5,
   "id": "fff3fb1f-04dc-47ef-8ea3-cf6b8e6da42a",
   "metadata": {},
   "outputs": [
    {
     "data": {
      "text/html": [
       "<div>\n",
       "<style scoped>\n",
       "    .dataframe tbody tr th:only-of-type {\n",
       "        vertical-align: middle;\n",
       "    }\n",
       "\n",
       "    .dataframe tbody tr th {\n",
       "        vertical-align: top;\n",
       "    }\n",
       "\n",
       "    .dataframe thead th {\n",
       "        text-align: right;\n",
       "    }\n",
       "</style>\n",
       "<table border=\"1\" class=\"dataframe\">\n",
       "  <thead>\n",
       "    <tr style=\"text-align: right;\">\n",
       "      <th></th>\n",
       "      <th>Gender</th>\n",
       "      <th>Age</th>\n",
       "      <th>Annual Income (k$)</th>\n",
       "      <th>Spending Score (1-100)</th>\n",
       "    </tr>\n",
       "  </thead>\n",
       "  <tbody>\n",
       "    <tr>\n",
       "      <th>count</th>\n",
       "      <td>200</td>\n",
       "      <td>200.000000</td>\n",
       "      <td>200.000000</td>\n",
       "      <td>200.000000</td>\n",
       "    </tr>\n",
       "    <tr>\n",
       "      <th>unique</th>\n",
       "      <td>2</td>\n",
       "      <td>NaN</td>\n",
       "      <td>NaN</td>\n",
       "      <td>NaN</td>\n",
       "    </tr>\n",
       "    <tr>\n",
       "      <th>top</th>\n",
       "      <td>Female</td>\n",
       "      <td>NaN</td>\n",
       "      <td>NaN</td>\n",
       "      <td>NaN</td>\n",
       "    </tr>\n",
       "    <tr>\n",
       "      <th>freq</th>\n",
       "      <td>112</td>\n",
       "      <td>NaN</td>\n",
       "      <td>NaN</td>\n",
       "      <td>NaN</td>\n",
       "    </tr>\n",
       "    <tr>\n",
       "      <th>mean</th>\n",
       "      <td>NaN</td>\n",
       "      <td>38.850000</td>\n",
       "      <td>60.560000</td>\n",
       "      <td>50.200000</td>\n",
       "    </tr>\n",
       "    <tr>\n",
       "      <th>std</th>\n",
       "      <td>NaN</td>\n",
       "      <td>13.969007</td>\n",
       "      <td>26.264721</td>\n",
       "      <td>25.823522</td>\n",
       "    </tr>\n",
       "    <tr>\n",
       "      <th>min</th>\n",
       "      <td>NaN</td>\n",
       "      <td>18.000000</td>\n",
       "      <td>15.000000</td>\n",
       "      <td>1.000000</td>\n",
       "    </tr>\n",
       "    <tr>\n",
       "      <th>25%</th>\n",
       "      <td>NaN</td>\n",
       "      <td>28.750000</td>\n",
       "      <td>41.500000</td>\n",
       "      <td>34.750000</td>\n",
       "    </tr>\n",
       "    <tr>\n",
       "      <th>50%</th>\n",
       "      <td>NaN</td>\n",
       "      <td>36.000000</td>\n",
       "      <td>61.500000</td>\n",
       "      <td>50.000000</td>\n",
       "    </tr>\n",
       "    <tr>\n",
       "      <th>75%</th>\n",
       "      <td>NaN</td>\n",
       "      <td>49.000000</td>\n",
       "      <td>78.000000</td>\n",
       "      <td>73.000000</td>\n",
       "    </tr>\n",
       "    <tr>\n",
       "      <th>max</th>\n",
       "      <td>NaN</td>\n",
       "      <td>70.000000</td>\n",
       "      <td>137.000000</td>\n",
       "      <td>99.000000</td>\n",
       "    </tr>\n",
       "  </tbody>\n",
       "</table>\n",
       "</div>"
      ],
      "text/plain": [
       "        Gender         Age  Annual Income (k$)  Spending Score (1-100)\n",
       "count      200  200.000000          200.000000              200.000000\n",
       "unique       2         NaN                 NaN                     NaN\n",
       "top     Female         NaN                 NaN                     NaN\n",
       "freq       112         NaN                 NaN                     NaN\n",
       "mean       NaN   38.850000           60.560000               50.200000\n",
       "std        NaN   13.969007           26.264721               25.823522\n",
       "min        NaN   18.000000           15.000000                1.000000\n",
       "25%        NaN   28.750000           41.500000               34.750000\n",
       "50%        NaN   36.000000           61.500000               50.000000\n",
       "75%        NaN   49.000000           78.000000               73.000000\n",
       "max        NaN   70.000000          137.000000               99.000000"
      ]
     },
     "execution_count": 5,
     "metadata": {},
     "output_type": "execute_result"
    }
   ],
   "source": [
    "df.describe(include=\"all\")                     "
   ]
  },
  {
   "cell_type": "code",
   "execution_count": 6,
   "id": "c1cfa363-c6f5-4d4f-b2ed-0f13b102c758",
   "metadata": {},
   "outputs": [
    {
     "data": {
      "text/plain": [
       "array([[15, 39],\n",
       "       [15, 81],\n",
       "       [16, 6],\n",
       "       [16, 77],\n",
       "       [17, 40],\n",
       "       [17, 76],\n",
       "       [18, 6],\n",
       "       [18, 94],\n",
       "       [19, 3],\n",
       "       [19, 72],\n",
       "       [19, 14],\n",
       "       [19, 99],\n",
       "       [20, 15],\n",
       "       [20, 77],\n",
       "       [20, 13],\n",
       "       [20, 79],\n",
       "       [21, 35],\n",
       "       [21, 66],\n",
       "       [23, 29],\n",
       "       [23, 98],\n",
       "       [24, 35],\n",
       "       [24, 73],\n",
       "       [25, 5],\n",
       "       [25, 73],\n",
       "       [28, 14],\n",
       "       [28, 82],\n",
       "       [28, 32],\n",
       "       [28, 61],\n",
       "       [29, 31],\n",
       "       [29, 87],\n",
       "       [30, 4],\n",
       "       [30, 73],\n",
       "       [33, 4],\n",
       "       [33, 92],\n",
       "       [33, 14],\n",
       "       [33, 81],\n",
       "       [34, 17],\n",
       "       [34, 73],\n",
       "       [37, 26],\n",
       "       [37, 75],\n",
       "       [38, 35],\n",
       "       [38, 92],\n",
       "       [39, 36],\n",
       "       [39, 61],\n",
       "       [39, 28],\n",
       "       [39, 65],\n",
       "       [40, 55],\n",
       "       [40, 47],\n",
       "       [40, 42],\n",
       "       [40, 42],\n",
       "       [42, 52],\n",
       "       [42, 60],\n",
       "       [43, 54],\n",
       "       [43, 60],\n",
       "       [43, 45],\n",
       "       [43, 41],\n",
       "       [44, 50],\n",
       "       [44, 46],\n",
       "       [46, 51],\n",
       "       [46, 46],\n",
       "       [46, 56],\n",
       "       [46, 55],\n",
       "       [47, 52],\n",
       "       [47, 59],\n",
       "       [48, 51],\n",
       "       [48, 59],\n",
       "       [48, 50],\n",
       "       [48, 48],\n",
       "       [48, 59],\n",
       "       [48, 47],\n",
       "       [49, 55],\n",
       "       [49, 42],\n",
       "       [50, 49],\n",
       "       [50, 56],\n",
       "       [54, 47],\n",
       "       [54, 54],\n",
       "       [54, 53],\n",
       "       [54, 48],\n",
       "       [54, 52],\n",
       "       [54, 42],\n",
       "       [54, 51],\n",
       "       [54, 55],\n",
       "       [54, 41],\n",
       "       [54, 44],\n",
       "       [54, 57],\n",
       "       [54, 46],\n",
       "       [57, 58],\n",
       "       [57, 55],\n",
       "       [58, 60],\n",
       "       [58, 46],\n",
       "       [59, 55],\n",
       "       [59, 41],\n",
       "       [60, 49],\n",
       "       [60, 40],\n",
       "       [60, 42],\n",
       "       [60, 52],\n",
       "       [60, 47],\n",
       "       [60, 50],\n",
       "       [61, 42],\n",
       "       [61, 49],\n",
       "       [62, 41],\n",
       "       [62, 48],\n",
       "       [62, 59],\n",
       "       [62, 55],\n",
       "       [62, 56],\n",
       "       [62, 42],\n",
       "       [63, 50],\n",
       "       [63, 46],\n",
       "       [63, 43],\n",
       "       [63, 48],\n",
       "       [63, 52],\n",
       "       [63, 54],\n",
       "       [64, 42],\n",
       "       [64, 46],\n",
       "       [65, 48],\n",
       "       [65, 50],\n",
       "       [65, 43],\n",
       "       [65, 59],\n",
       "       [67, 43],\n",
       "       [67, 57],\n",
       "       [67, 56],\n",
       "       [67, 40],\n",
       "       [69, 58],\n",
       "       [69, 91],\n",
       "       [70, 29],\n",
       "       [70, 77],\n",
       "       [71, 35],\n",
       "       [71, 95],\n",
       "       [71, 11],\n",
       "       [71, 75],\n",
       "       [71, 9],\n",
       "       [71, 75],\n",
       "       [72, 34],\n",
       "       [72, 71],\n",
       "       [73, 5],\n",
       "       [73, 88],\n",
       "       [73, 7],\n",
       "       [73, 73],\n",
       "       [74, 10],\n",
       "       [74, 72],\n",
       "       [75, 5],\n",
       "       [75, 93],\n",
       "       [76, 40],\n",
       "       [76, 87],\n",
       "       [77, 12],\n",
       "       [77, 97],\n",
       "       [77, 36],\n",
       "       [77, 74],\n",
       "       [78, 22],\n",
       "       [78, 90],\n",
       "       [78, 17],\n",
       "       [78, 88],\n",
       "       [78, 20],\n",
       "       [78, 76],\n",
       "       [78, 16],\n",
       "       [78, 89],\n",
       "       [78, 1],\n",
       "       [78, 78],\n",
       "       [78, 1],\n",
       "       [78, 73],\n",
       "       [79, 35],\n",
       "       [79, 83],\n",
       "       [81, 5],\n",
       "       [81, 93],\n",
       "       [85, 26],\n",
       "       [85, 75],\n",
       "       [86, 20],\n",
       "       [86, 95],\n",
       "       [87, 27],\n",
       "       [87, 63],\n",
       "       [87, 13],\n",
       "       [87, 75],\n",
       "       [87, 10],\n",
       "       [87, 92],\n",
       "       [88, 13],\n",
       "       [88, 86],\n",
       "       [88, 15],\n",
       "       [88, 69],\n",
       "       [93, 14],\n",
       "       [93, 90],\n",
       "       [97, 32],\n",
       "       [97, 86],\n",
       "       [98, 15],\n",
       "       [98, 88],\n",
       "       [99, 39],\n",
       "       [99, 97],\n",
       "       [101, 24],\n",
       "       [101, 68],\n",
       "       [103, 17],\n",
       "       [103, 85],\n",
       "       [103, 23],\n",
       "       [103, 69],\n",
       "       [113, 8],\n",
       "       [113, 91],\n",
       "       [120, 16],\n",
       "       [120, 79],\n",
       "       [126, 28],\n",
       "       [126, 74],\n",
       "       [137, 18],\n",
       "       [137, 83]], dtype=object)"
      ]
     },
     "execution_count": 6,
     "metadata": {},
     "output_type": "execute_result"
    }
   ],
   "source": [
    "X=df.values[:,[2,3]]\n",
    "X"
   ]
  },
  {
   "cell_type": "code",
   "execution_count": 7,
   "id": "79fa12ad-6391-4eb7-a45f-8075ce413c80",
   "metadata": {},
   "outputs": [
    {
     "data": {
      "image/png": "[encoded data removed]",
      "text/plain": [
       "<Figure size 640x480 with 1 Axes>"
      ]
     },
     "metadata": {},
     "output_type": "display_data"
    }
   ],
   "source": [
    "# Using the elbow method to find the optimal number of clusters\n",
    "wsse=[]\n",
    "for i in range(1,11):\n",
    "    kmeans=KMeans(n_clusters=i,random_state=10)\n",
    "    kmeans.fit(X)\n",
    "    wsse.append(kmeans.inertia_) #inertia is WSSE\n",
    "plt.plot(range(1,11), wsse)\n",
    "plt.scatter(range(1, 11),wsse)\n",
    "plt.title('The Elbow Method')\n",
    "plt.xlabel('Number of clusters')\n",
    "plt.ylabel('WSSE')\n",
    "plt.show()"
   ]
  },
  {
   "cell_type": "code",
   "execution_count": 8,
   "id": "6838448b-3609-4c35-92bc-a2f63ffb419c",
   "metadata": {},
   "outputs": [
    {
     "name": "stdout",
     "output_type": "stream",
     "text": [
      "[269981.28, 181363.595959596, 106348.3730621112, 73679.78903948834, 44448.45544793371, 37271.886236589504, 30273.39431207004, 25022.485004530354, 21881.878507060967, 19669.710998301216]\n"
     ]
    }
   ],
   "source": [
    "print(wsse)"
   ]
  },
  {
   "cell_type": "code",
   "execution_count": 9,
   "id": "1ba5dbf4-a203-4d9e-af30-c0324a7f503a",
   "metadata": {},
   "outputs": [],
   "source": [
    "#fitting K-Means to the dataset\n",
    "kmeans=KMeans(n_clusters=5,random_state=10)\n",
    "Y_pred=kmeans.fit_predict(X)"
   ]
  },
  {
   "cell_type": "code",
   "execution_count": 11,
   "id": "772d16f0-1a28-488e-881c-13baa8485702",
   "metadata": {},
   "outputs": [
    {
     "data": {
      "text/plain": [
       "array([3, 0, 3, 0, 3, 0, 3, 0, 3, 0, 3, 0, 3, 0, 3, 0, 3, 0, 3, 0, 3, 0,\n",
       "       3, 0, 3, 0, 3, 0, 3, 0, 3, 0, 3, 0, 3, 0, 3, 0, 3, 0, 3, 0, 3, 1,\n",
       "       3, 0, 1, 1, 1, 1, 1, 1, 1, 1, 1, 1, 1, 1, 1, 1, 1, 1, 1, 1, 1, 1,\n",
       "       1, 1, 1, 1, 1, 1, 1, 1, 1, 1, 1, 1, 1, 1, 1, 1, 1, 1, 1, 1, 1, 1,\n",
       "       1, 1, 1, 1, 1, 1, 1, 1, 1, 1, 1, 1, 1, 1, 1, 1, 1, 1, 1, 1, 1, 1,\n",
       "       1, 1, 1, 1, 1, 1, 1, 1, 1, 1, 1, 1, 1, 2, 4, 2, 1, 2, 4, 2, 4, 2,\n",
       "       1, 2, 4, 2, 4, 2, 4, 2, 4, 2, 1, 2, 4, 2, 4, 2, 4, 2, 4, 2, 4, 2,\n",
       "       4, 2, 4, 2, 4, 2, 4, 2, 4, 2, 4, 2, 4, 2, 4, 2, 4, 2, 4, 2, 4, 2,\n",
       "       4, 2, 4, 2, 4, 2, 4, 2, 4, 2, 4, 2, 4, 2, 4, 2, 4, 2, 4, 2, 4, 2,\n",
       "       4, 2])"
      ]
     },
     "execution_count": 11,
     "metadata": {},
     "output_type": "execute_result"
    }
   ],
   "source": [
    "Y_pred"
   ]
  },
  {
   "cell_type": "code",
   "execution_count": 12,
   "id": "c9c48c26-e956-4811-b184-e844c0c1fa07",
   "metadata": {},
   "outputs": [
    {
     "data": {
      "text/plain": [
       "44448.45544793371"
      ]
     },
     "execution_count": 12,
     "metadata": {},
     "output_type": "execute_result"
    }
   ],
   "source": [
    "kmeans.inertia_"
   ]
  },
  {
   "cell_type": "code",
   "execution_count": 13,
   "id": "fe5850aa-a5d6-48cb-afbf-ecf24d925ab1",
   "metadata": {},
   "outputs": [
    {
     "data": {
      "text/plain": [
       "5"
      ]
     },
     "execution_count": 13,
     "metadata": {},
     "output_type": "execute_result"
    }
   ],
   "source": [
    "kmeans.n_iter_"
   ]
  },
  {
   "cell_type": "code",
   "execution_count": 15,
   "id": "2a762b6b-6870-4e13-89e3-6f728310f41c",
   "metadata": {},
   "outputs": [
    {
     "data": {
      "text/html": [
       "<div>\n",
       "<style scoped>\n",
       "    .dataframe tbody tr th:only-of-type {\n",
       "        vertical-align: middle;\n",
       "    }\n",
       "\n",
       "    .dataframe tbody tr th {\n",
       "        vertical-align: top;\n",
       "    }\n",
       "\n",
       "    .dataframe thead th {\n",
       "        text-align: right;\n",
       "    }\n",
       "</style>\n",
       "<table border=\"1\" class=\"dataframe\">\n",
       "  <thead>\n",
       "    <tr style=\"text-align: right;\">\n",
       "      <th></th>\n",
       "      <th>Gender</th>\n",
       "      <th>Age</th>\n",
       "      <th>Annual Income (k$)</th>\n",
       "      <th>Spending Score (1-100)</th>\n",
       "      <th>Clusters</th>\n",
       "    </tr>\n",
       "    <tr>\n",
       "      <th>CustomerID</th>\n",
       "      <th></th>\n",
       "      <th></th>\n",
       "      <th></th>\n",
       "      <th></th>\n",
       "      <th></th>\n",
       "    </tr>\n",
       "  </thead>\n",
       "  <tbody>\n",
       "    <tr>\n",
       "      <th>1</th>\n",
       "      <td>Male</td>\n",
       "      <td>19</td>\n",
       "      <td>15</td>\n",
       "      <td>39</td>\n",
       "      <td>3</td>\n",
       "    </tr>\n",
       "    <tr>\n",
       "      <th>2</th>\n",
       "      <td>Male</td>\n",
       "      <td>21</td>\n",
       "      <td>15</td>\n",
       "      <td>81</td>\n",
       "      <td>0</td>\n",
       "    </tr>\n",
       "    <tr>\n",
       "      <th>3</th>\n",
       "      <td>Female</td>\n",
       "      <td>20</td>\n",
       "      <td>16</td>\n",
       "      <td>6</td>\n",
       "      <td>3</td>\n",
       "    </tr>\n",
       "    <tr>\n",
       "      <th>4</th>\n",
       "      <td>Female</td>\n",
       "      <td>23</td>\n",
       "      <td>16</td>\n",
       "      <td>77</td>\n",
       "      <td>0</td>\n",
       "    </tr>\n",
       "    <tr>\n",
       "      <th>5</th>\n",
       "      <td>Female</td>\n",
       "      <td>31</td>\n",
       "      <td>17</td>\n",
       "      <td>40</td>\n",
       "      <td>3</td>\n",
       "    </tr>\n",
       "  </tbody>\n",
       "</table>\n",
       "</div>"
      ],
      "text/plain": [
       "            Gender  Age  Annual Income (k$)  Spending Score (1-100)  Clusters\n",
       "CustomerID                                                                   \n",
       "1             Male   19                  15                      39         3\n",
       "2             Male   21                  15                      81         0\n",
       "3           Female   20                  16                       6         3\n",
       "4           Female   23                  16                      77         0\n",
       "5           Female   31                  17                      40         3"
      ]
     },
     "execution_count": 15,
     "metadata": {},
     "output_type": "execute_result"
    }
   ],
   "source": [
    "df['Clusters']=Y_pred\n",
    "df.head()"
   ]
  },
  {
   "cell_type": "code",
   "execution_count": 20,
   "id": "d3b0f427-fa69-42ac-81cc-256821528df3",
   "metadata": {},
   "outputs": [
    {
     "data": {
      "image/png": "[encoded data removed]",
      "text/plain": [
       "<Figure size 567.486x500 with 1 Axes>"
      ]
     },
     "metadata": {},
     "output_type": "display_data"
    }
   ],
   "source": [
    "sns.lmplot(data=df, x='Annual Income (k$)', y='Spending Score (1-100)',\n",
    "           fit_reg=False, # No regression line\n",
    "           hue='Clusters',palette=\"Set1\")  \n",
    "plt.scatter(kmeans.cluster_centers_[:, 0], kmeans.cluster_centers_[:, 1], \n",
    "s = 300, c = 'black')\n",
    "plt.show()"
   ]
  },
  {
   "cell_type": "code",
   "execution_count": 21,
   "id": "47cfab49-8371-4ed0-bddf-19192c63ab4f",
   "metadata": {},
   "outputs": [
    {
     "data": {
      "text/plain": [
       "5"
      ]
     },
     "execution_count": 21,
     "metadata": {},
     "output_type": "execute_result"
    }
   ],
   "source": [
    "kmeans.n_clusters"
   ]
  },
  {
   "cell_type": "code",
   "execution_count": 22,
   "id": "46deabc7-8c1d-4760-94d4-a858276b8443",
   "metadata": {},
   "outputs": [
    {
     "data": {
      "text/plain": [
       "array([[25.72727273, 79.36363636],\n",
       "       [55.2962963 , 49.51851852],\n",
       "       [86.53846154, 82.12820513],\n",
       "       [26.30434783, 20.91304348],\n",
       "       [88.2       , 17.11428571]])"
      ]
     },
     "execution_count": 22,
     "metadata": {},
     "output_type": "execute_result"
    }
   ],
   "source": [
    "kmeans.cluster_centers_"
   ]
  },
  {
   "cell_type": "code",
   "execution_count": 23,
   "id": "2e35b283-5907-4fc2-9784-d27994b336e3",
   "metadata": {},
   "outputs": [],
   "source": [
    "df['Clusters']=df.Clusters.replace({0:\"Careless\",1:'Standard',2:'Target',3:'Sensible',4:'Careful'})"
   ]
  },
  {
   "cell_type": "code",
   "execution_count": 24,
   "id": "a7bdc8c1-c76b-4cac-903d-ed8ccd60f8e9",
   "metadata": {},
   "outputs": [
    {
     "data": {
      "text/html": [
       "<div>\n",
       "<style scoped>\n",
       "    .dataframe tbody tr th:only-of-type {\n",
       "        vertical-align: middle;\n",
       "    }\n",
       "\n",
       "    .dataframe tbody tr th {\n",
       "        vertical-align: top;\n",
       "    }\n",
       "\n",
       "    .dataframe thead th {\n",
       "        text-align: right;\n",
       "    }\n",
       "</style>\n",
       "<table border=\"1\" class=\"dataframe\">\n",
       "  <thead>\n",
       "    <tr style=\"text-align: right;\">\n",
       "      <th></th>\n",
       "      <th>Gender</th>\n",
       "      <th>Age</th>\n",
       "      <th>Annual Income (k$)</th>\n",
       "      <th>Spending Score (1-100)</th>\n",
       "      <th>Clusters</th>\n",
       "    </tr>\n",
       "    <tr>\n",
       "      <th>CustomerID</th>\n",
       "      <th></th>\n",
       "      <th></th>\n",
       "      <th></th>\n",
       "      <th></th>\n",
       "      <th></th>\n",
       "    </tr>\n",
       "  </thead>\n",
       "  <tbody>\n",
       "    <tr>\n",
       "      <th>1</th>\n",
       "      <td>Male</td>\n",
       "      <td>19</td>\n",
       "      <td>15</td>\n",
       "      <td>39</td>\n",
       "      <td>Sensible</td>\n",
       "    </tr>\n",
       "    <tr>\n",
       "      <th>2</th>\n",
       "      <td>Male</td>\n",
       "      <td>21</td>\n",
       "      <td>15</td>\n",
       "      <td>81</td>\n",
       "      <td>Careless</td>\n",
       "    </tr>\n",
       "    <tr>\n",
       "      <th>3</th>\n",
       "      <td>Female</td>\n",
       "      <td>20</td>\n",
       "      <td>16</td>\n",
       "      <td>6</td>\n",
       "      <td>Sensible</td>\n",
       "    </tr>\n",
       "    <tr>\n",
       "      <th>4</th>\n",
       "      <td>Female</td>\n",
       "      <td>23</td>\n",
       "      <td>16</td>\n",
       "      <td>77</td>\n",
       "      <td>Careless</td>\n",
       "    </tr>\n",
       "    <tr>\n",
       "      <th>5</th>\n",
       "      <td>Female</td>\n",
       "      <td>31</td>\n",
       "      <td>17</td>\n",
       "      <td>40</td>\n",
       "      <td>Sensible</td>\n",
       "    </tr>\n",
       "  </tbody>\n",
       "</table>\n",
       "</div>"
      ],
      "text/plain": [
       "            Gender  Age  Annual Income (k$)  Spending Score (1-100)  Clusters\n",
       "CustomerID                                                                   \n",
       "1             Male   19                  15                      39  Sensible\n",
       "2             Male   21                  15                      81  Careless\n",
       "3           Female   20                  16                       6  Sensible\n",
       "4           Female   23                  16                      77  Careless\n",
       "5           Female   31                  17                      40  Sensible"
      ]
     },
     "execution_count": 24,
     "metadata": {},
     "output_type": "execute_result"
    }
   ],
   "source": [
    "df.head()"
   ]
  },
  {
   "cell_type": "code",
   "execution_count": 27,
   "id": "f39e4215-bb53-478a-afcc-f32e4af83e4f",
   "metadata": {},
   "outputs": [
    {
     "data": {
      "text/plain": [
       "Clusters\n",
       "Standard    81\n",
       "Target      39\n",
       "Careful     35\n",
       "Sensible    23\n",
       "Careless    22\n",
       "Name: count, dtype: int64"
      ]
     },
     "execution_count": 27,
     "metadata": {},
     "output_type": "execute_result"
    }
   ],
   "source": [
    "df.Clusters.value_counts()"
   ]
  },
  {
   "cell_type": "code",
   "execution_count": 29,
   "id": "9b0053dd-1412-4490-9e48-210cb6c878f2",
   "metadata": {},
   "outputs": [],
   "source": [
    "new_df=df[df['Clusters']=='Target']"
   ]
  },
  {
   "cell_type": "code",
   "execution_count": 32,
   "id": "dd23e424-ccd4-4053-86aa-3c3cd7c28cd2",
   "metadata": {},
   "outputs": [],
   "source": [
    "new_df.to_csv(r'TargetCustomers.csv',index=True)"
   ]
  }
 ],
 "metadata": {
  "kernelspec": {
   "display_name": "Python 3 (ipykernel)",
   "language": "python",
   "name": "python3"
  },
  "language_info": {
   "codemirror_mode": {
    "name": "ipython",
    "version": 3
   },
   "file_extension": ".py",
   "mimetype": "text/x-python",
   "name": "python",
   "nbconvert_exporter": "python",
   "pygments_lexer": "ipython3",
   "version": "3.11.7"
  }
 },
 "nbformat": 4,
 "nbformat_minor": 5
}
